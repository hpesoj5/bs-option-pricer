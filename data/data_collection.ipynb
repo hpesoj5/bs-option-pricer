{
 "cells": [
  {
   "cell_type": "code",
   "execution_count": 10,
   "id": "66ed0c09",
   "metadata": {},
   "outputs": [],
   "source": [
    "import yfinance as yf\n",
    "from datetime import datetime\n",
    "import pandas as pd\n",
    "import numpy as np"
   ]
  },
  {
   "cell_type": "code",
   "execution_count": 4,
   "id": "3be45be2",
   "metadata": {},
   "outputs": [],
   "source": [
    "def get_price_data(tickers, start, end):\n",
    "    for t in tickers:\n",
    "        df = yf.download(t, start=start, end=end, auto_adjust=False)\n",
    "        df = df.reset_index()\n",
    "        df.columns = [x[0] for x in df.columns]\n",
    "        df = df[[\"Date\", \"Open\", \"High\", \"Low\", \"Close\", \"Adj Close\", \"Volume\"]]\n",
    "        df.to_csv(f\"{t}.csv\", index=False)\n",
    "        print(f\"Saved {t} to {t}.csv\")"
   ]
  },
  {
   "cell_type": "code",
   "execution_count": 5,
   "id": "9f81132e",
   "metadata": {},
   "outputs": [],
   "source": [
    "START_DATE = datetime(2025, 9, 3)\n",
    "END_DATE = datetime(2025, 10, 3)"
   ]
  },
  {
   "cell_type": "code",
   "execution_count": 6,
   "id": "85b03b8e",
   "metadata": {},
   "outputs": [
    {
     "name": "stderr",
     "output_type": "stream",
     "text": [
      "[*********************100%***********************]  1 of 1 completed"
     ]
    },
    {
     "name": "stdout",
     "output_type": "stream",
     "text": [
      "Saved INTC to INTC.csv\n"
     ]
    },
    {
     "name": "stderr",
     "output_type": "stream",
     "text": [
      "\n"
     ]
    }
   ],
   "source": [
    "get_price_data(['INTC'], START_DATE, END_DATE)"
   ]
  },
  {
   "cell_type": "code",
   "execution_count": 9,
   "id": "fc997138",
   "metadata": {},
   "outputs": [
    {
     "data": {
      "application/vnd.microsoft.datawrangler.viewer.v0+json": {
       "columns": [
        {
         "name": "index",
         "rawType": "int64",
         "type": "integer"
        },
        {
         "name": "Date",
         "rawType": "object",
         "type": "string"
        },
        {
         "name": "Open",
         "rawType": "float64",
         "type": "float"
        },
        {
         "name": "High",
         "rawType": "float64",
         "type": "float"
        },
        {
         "name": "Low",
         "rawType": "float64",
         "type": "float"
        },
        {
         "name": "Close",
         "rawType": "float64",
         "type": "float"
        },
        {
         "name": "Adj Close",
         "rawType": "float64",
         "type": "float"
        },
        {
         "name": "Volume",
         "rawType": "int64",
         "type": "integer"
        }
       ],
       "ref": "93b462a2-df0a-4881-85c6-c52d0f9156f8",
       "rows": [
        [
         "0",
         "2025-09-03",
         "24.09000015258789",
         "24.09000015258789",
         "23.71999931335449",
         "24.0",
         "24.0",
         "47822900"
        ],
        [
         "1",
         "2025-09-04",
         "23.850000381469727",
         "24.63999938964844",
         "23.75",
         "24.61000061035156",
         "24.61000061035156",
         "59056500"
        ],
        [
         "2",
         "2025-09-05",
         "24.600000381469727",
         "24.709999084472656",
         "24.170000076293945",
         "24.489999771118164",
         "24.489999771118164",
         "55975300"
        ],
        [
         "3",
         "2025-09-08",
         "24.479999542236328",
         "24.739999771118164",
         "24.1200008392334",
         "24.479999542236328",
         "24.479999542236328",
         "51122100"
        ],
        [
         "4",
         "2025-09-09",
         "24.530000686645508",
         "24.809999465942383",
         "24.270000457763672",
         "24.440000534057617",
         "24.440000534057617",
         "42146200"
        ]
       ],
       "shape": {
        "columns": 7,
        "rows": 5
       }
      },
      "text/html": [
       "<div>\n",
       "<style scoped>\n",
       "    .dataframe tbody tr th:only-of-type {\n",
       "        vertical-align: middle;\n",
       "    }\n",
       "\n",
       "    .dataframe tbody tr th {\n",
       "        vertical-align: top;\n",
       "    }\n",
       "\n",
       "    .dataframe thead th {\n",
       "        text-align: right;\n",
       "    }\n",
       "</style>\n",
       "<table border=\"1\" class=\"dataframe\">\n",
       "  <thead>\n",
       "    <tr style=\"text-align: right;\">\n",
       "      <th></th>\n",
       "      <th>Date</th>\n",
       "      <th>Open</th>\n",
       "      <th>High</th>\n",
       "      <th>Low</th>\n",
       "      <th>Close</th>\n",
       "      <th>Adj Close</th>\n",
       "      <th>Volume</th>\n",
       "    </tr>\n",
       "  </thead>\n",
       "  <tbody>\n",
       "    <tr>\n",
       "      <th>0</th>\n",
       "      <td>2025-09-03</td>\n",
       "      <td>24.090000</td>\n",
       "      <td>24.090000</td>\n",
       "      <td>23.719999</td>\n",
       "      <td>24.000000</td>\n",
       "      <td>24.000000</td>\n",
       "      <td>47822900</td>\n",
       "    </tr>\n",
       "    <tr>\n",
       "      <th>1</th>\n",
       "      <td>2025-09-04</td>\n",
       "      <td>23.850000</td>\n",
       "      <td>24.639999</td>\n",
       "      <td>23.750000</td>\n",
       "      <td>24.610001</td>\n",
       "      <td>24.610001</td>\n",
       "      <td>59056500</td>\n",
       "    </tr>\n",
       "    <tr>\n",
       "      <th>2</th>\n",
       "      <td>2025-09-05</td>\n",
       "      <td>24.600000</td>\n",
       "      <td>24.709999</td>\n",
       "      <td>24.170000</td>\n",
       "      <td>24.490000</td>\n",
       "      <td>24.490000</td>\n",
       "      <td>55975300</td>\n",
       "    </tr>\n",
       "    <tr>\n",
       "      <th>3</th>\n",
       "      <td>2025-09-08</td>\n",
       "      <td>24.480000</td>\n",
       "      <td>24.740000</td>\n",
       "      <td>24.120001</td>\n",
       "      <td>24.480000</td>\n",
       "      <td>24.480000</td>\n",
       "      <td>51122100</td>\n",
       "    </tr>\n",
       "    <tr>\n",
       "      <th>4</th>\n",
       "      <td>2025-09-09</td>\n",
       "      <td>24.530001</td>\n",
       "      <td>24.809999</td>\n",
       "      <td>24.270000</td>\n",
       "      <td>24.440001</td>\n",
       "      <td>24.440001</td>\n",
       "      <td>42146200</td>\n",
       "    </tr>\n",
       "  </tbody>\n",
       "</table>\n",
       "</div>"
      ],
      "text/plain": [
       "         Date       Open       High        Low      Close  Adj Close    Volume\n",
       "0  2025-09-03  24.090000  24.090000  23.719999  24.000000  24.000000  47822900\n",
       "1  2025-09-04  23.850000  24.639999  23.750000  24.610001  24.610001  59056500\n",
       "2  2025-09-05  24.600000  24.709999  24.170000  24.490000  24.490000  55975300\n",
       "3  2025-09-08  24.480000  24.740000  24.120001  24.480000  24.480000  51122100\n",
       "4  2025-09-09  24.530001  24.809999  24.270000  24.440001  24.440001  42146200"
      ]
     },
     "execution_count": 9,
     "metadata": {},
     "output_type": "execute_result"
    }
   ],
   "source": [
    "intc = pd.read_csv('INTC.csv')\n",
    "intc.head()"
   ]
  },
  {
   "cell_type": "code",
   "execution_count": 12,
   "id": "c4c68796",
   "metadata": {},
   "outputs": [
    {
     "data": {
      "application/vnd.microsoft.datawrangler.viewer.v0+json": {
       "columns": [
        {
         "name": "index",
         "rawType": "int64",
         "type": "integer"
        },
        {
         "name": "Date",
         "rawType": "object",
         "type": "unknown"
        },
        {
         "name": "Open",
         "rawType": "float64",
         "type": "float"
        },
        {
         "name": "High",
         "rawType": "float64",
         "type": "float"
        },
        {
         "name": "Low",
         "rawType": "float64",
         "type": "float"
        },
        {
         "name": "Close",
         "rawType": "float64",
         "type": "float"
        },
        {
         "name": "Adj Close",
         "rawType": "float64",
         "type": "float"
        },
        {
         "name": "Volume",
         "rawType": "float64",
         "type": "float"
        }
       ],
       "ref": "4c5aa131-9615-4cbc-a580-4beccb30c155",
       "rows": [
        [
         "0",
         null,
         null,
         null,
         null,
         null,
         null,
         null
        ],
        [
         "1",
         "2025-09-03",
         "24.09000015258789",
         "24.09000015258789",
         "23.71999931335449",
         "24.0",
         "24.0",
         "47822900.0"
        ],
        [
         "2",
         "2025-09-04",
         "23.850000381469727",
         "24.63999938964844",
         "23.75",
         "24.61000061035156",
         "24.61000061035156",
         "59056500.0"
        ],
        [
         "3",
         "2025-09-05",
         "24.600000381469727",
         "24.709999084472656",
         "24.170000076293945",
         "24.489999771118164",
         "24.489999771118164",
         "55975300.0"
        ],
        [
         "4",
         "2025-09-08",
         "24.479999542236328",
         "24.739999771118164",
         "24.1200008392334",
         "24.479999542236328",
         "24.479999542236328",
         "51122100.0"
        ]
       ],
       "shape": {
        "columns": 7,
        "rows": 5
       }
      },
      "text/html": [
       "<div>\n",
       "<style scoped>\n",
       "    .dataframe tbody tr th:only-of-type {\n",
       "        vertical-align: middle;\n",
       "    }\n",
       "\n",
       "    .dataframe tbody tr th {\n",
       "        vertical-align: top;\n",
       "    }\n",
       "\n",
       "    .dataframe thead th {\n",
       "        text-align: right;\n",
       "    }\n",
       "</style>\n",
       "<table border=\"1\" class=\"dataframe\">\n",
       "  <thead>\n",
       "    <tr style=\"text-align: right;\">\n",
       "      <th></th>\n",
       "      <th>Date</th>\n",
       "      <th>Open</th>\n",
       "      <th>High</th>\n",
       "      <th>Low</th>\n",
       "      <th>Close</th>\n",
       "      <th>Adj Close</th>\n",
       "      <th>Volume</th>\n",
       "    </tr>\n",
       "  </thead>\n",
       "  <tbody>\n",
       "    <tr>\n",
       "      <th>0</th>\n",
       "      <td>None</td>\n",
       "      <td>NaN</td>\n",
       "      <td>NaN</td>\n",
       "      <td>NaN</td>\n",
       "      <td>NaN</td>\n",
       "      <td>NaN</td>\n",
       "      <td>NaN</td>\n",
       "    </tr>\n",
       "    <tr>\n",
       "      <th>1</th>\n",
       "      <td>2025-09-03</td>\n",
       "      <td>24.09</td>\n",
       "      <td>24.090000</td>\n",
       "      <td>23.719999</td>\n",
       "      <td>24.000000</td>\n",
       "      <td>24.000000</td>\n",
       "      <td>47822900.0</td>\n",
       "    </tr>\n",
       "    <tr>\n",
       "      <th>2</th>\n",
       "      <td>2025-09-04</td>\n",
       "      <td>23.85</td>\n",
       "      <td>24.639999</td>\n",
       "      <td>23.750000</td>\n",
       "      <td>24.610001</td>\n",
       "      <td>24.610001</td>\n",
       "      <td>59056500.0</td>\n",
       "    </tr>\n",
       "    <tr>\n",
       "      <th>3</th>\n",
       "      <td>2025-09-05</td>\n",
       "      <td>24.60</td>\n",
       "      <td>24.709999</td>\n",
       "      <td>24.170000</td>\n",
       "      <td>24.490000</td>\n",
       "      <td>24.490000</td>\n",
       "      <td>55975300.0</td>\n",
       "    </tr>\n",
       "    <tr>\n",
       "      <th>4</th>\n",
       "      <td>2025-09-08</td>\n",
       "      <td>24.48</td>\n",
       "      <td>24.740000</td>\n",
       "      <td>24.120001</td>\n",
       "      <td>24.480000</td>\n",
       "      <td>24.480000</td>\n",
       "      <td>51122100.0</td>\n",
       "    </tr>\n",
       "  </tbody>\n",
       "</table>\n",
       "</div>"
      ],
      "text/plain": [
       "         Date   Open       High        Low      Close  Adj Close      Volume\n",
       "0        None    NaN        NaN        NaN        NaN        NaN         NaN\n",
       "1  2025-09-03  24.09  24.090000  23.719999  24.000000  24.000000  47822900.0\n",
       "2  2025-09-04  23.85  24.639999  23.750000  24.610001  24.610001  59056500.0\n",
       "3  2025-09-05  24.60  24.709999  24.170000  24.490000  24.490000  55975300.0\n",
       "4  2025-09-08  24.48  24.740000  24.120001  24.480000  24.480000  51122100.0"
      ]
     },
     "execution_count": 12,
     "metadata": {},
     "output_type": "execute_result"
    }
   ],
   "source": [
    "intc.shift().head()"
   ]
  },
  {
   "cell_type": "code",
   "execution_count": 25,
   "id": "0711bab9",
   "metadata": {},
   "outputs": [
    {
     "data": {
      "text/plain": [
       "np.float64(0.05410840708986311)"
      ]
     },
     "execution_count": 25,
     "metadata": {},
     "output_type": "execute_result"
    }
   ],
   "source": [
    "returns = np.log(intc.loc[:, 'Adj Close'] / intc.shift().loc[:, 'Adj Close']).dropna()\n",
    "returns.std()"
   ]
  },
  {
   "cell_type": "code",
   "execution_count": null,
   "id": "d7474643",
   "metadata": {},
   "outputs": [],
   "source": []
  }
 ],
 "metadata": {
  "kernelspec": {
   "display_name": "trading",
   "language": "python",
   "name": "python3"
  },
  "language_info": {
   "codemirror_mode": {
    "name": "ipython",
    "version": 3
   },
   "file_extension": ".py",
   "mimetype": "text/x-python",
   "name": "python",
   "nbconvert_exporter": "python",
   "pygments_lexer": "ipython3",
   "version": "3.12.11"
  }
 },
 "nbformat": 4,
 "nbformat_minor": 5
}
